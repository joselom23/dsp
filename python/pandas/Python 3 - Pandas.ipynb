{
 "cells": [
  {
   "cell_type": "markdown",
   "metadata": {},
   "source": [
    "### Answers submitted by:  Jose Medina \n",
    "### Date:  06/19/2018  \n",
    "---"
   ]
  },
  {
   "cell_type": "markdown",
   "metadata": {},
   "source": [
    "# [Prework 5.3]:  Pandas Exercises\n",
    "---"
   ]
  },
  {
   "cell_type": "markdown",
   "metadata": {},
   "source": [
    "## Q1: import numpy and pandas"
   ]
  },
  {
   "cell_type": "code",
   "execution_count": 115,
   "metadata": {},
   "outputs": [],
   "source": [
    "# imports a library 'pandas', names it as 'pd'\n",
    "import pandas as pd\n",
    "import numpy as np"
   ]
  },
  {
   "cell_type": "markdown",
   "metadata": {},
   "source": [
    "## Q2: Set options in pandas so it displays 30 `max_rows`, no limit on `max_columns`, `precision` is 3"
   ]
  },
  {
   "cell_type": "code",
   "execution_count": 116,
   "metadata": {},
   "outputs": [],
   "source": [
    "# set various options in pandas\n",
    "pd.set_option('display.max_rows', 30)\n",
    "pd.set_option('display.max_columns', None)\n",
    "pd.set_option('display.precision', 3)"
   ]
  },
  {
   "cell_type": "markdown",
   "metadata": {},
   "source": [
    "## Q3: assign the versions of pandas and numpy to variables below\n"
   ]
  },
  {
   "cell_type": "code",
   "execution_count": 117,
   "metadata": {},
   "outputs": [
    {
     "name": "stdout",
     "output_type": "stream",
     "text": [
      "0.23.1\n",
      "1.14.4\n"
     ]
    }
   ],
   "source": [
    "pd_version = pd.__version__\n",
    "np_version = np.__version__\n",
    "print(pd_version)\n",
    "print(np_version)"
   ]
  },
  {
   "cell_type": "markdown",
   "metadata": {},
   "source": [
    "## Q4: Read in the csv file `olive.csv` with pandas and assign it to variable `df`."
   ]
  },
  {
   "cell_type": "code",
   "execution_count": 118,
   "metadata": {},
   "outputs": [
    {
     "data": {
      "text/html": [
       "<div>\n",
       "<style scoped>\n",
       "    .dataframe tbody tr th:only-of-type {\n",
       "        vertical-align: middle;\n",
       "    }\n",
       "\n",
       "    .dataframe tbody tr th {\n",
       "        vertical-align: top;\n",
       "    }\n",
       "\n",
       "    .dataframe thead th {\n",
       "        text-align: right;\n",
       "    }\n",
       "</style>\n",
       "<table border=\"1\" class=\"dataframe\">\n",
       "  <thead>\n",
       "    <tr style=\"text-align: right;\">\n",
       "      <th></th>\n",
       "      <th>Unnamed: 0</th>\n",
       "      <th>region</th>\n",
       "      <th>area</th>\n",
       "      <th>palmitic</th>\n",
       "      <th>palmitoleic</th>\n",
       "      <th>stearic</th>\n",
       "      <th>oleic</th>\n",
       "      <th>linoleic</th>\n",
       "      <th>linolenic</th>\n",
       "      <th>arachidic</th>\n",
       "      <th>eicosenoic</th>\n",
       "    </tr>\n",
       "  </thead>\n",
       "  <tbody>\n",
       "    <tr>\n",
       "      <th>0</th>\n",
       "      <td>1.North-Apulia</td>\n",
       "      <td>1</td>\n",
       "      <td>1</td>\n",
       "      <td>1075</td>\n",
       "      <td>75</td>\n",
       "      <td>226</td>\n",
       "      <td>7823</td>\n",
       "      <td>672</td>\n",
       "      <td>36</td>\n",
       "      <td>60</td>\n",
       "      <td>29</td>\n",
       "    </tr>\n",
       "    <tr>\n",
       "      <th>1</th>\n",
       "      <td>2.North-Apulia</td>\n",
       "      <td>1</td>\n",
       "      <td>1</td>\n",
       "      <td>1088</td>\n",
       "      <td>73</td>\n",
       "      <td>224</td>\n",
       "      <td>7709</td>\n",
       "      <td>781</td>\n",
       "      <td>31</td>\n",
       "      <td>61</td>\n",
       "      <td>29</td>\n",
       "    </tr>\n",
       "    <tr>\n",
       "      <th>2</th>\n",
       "      <td>3.North-Apulia</td>\n",
       "      <td>1</td>\n",
       "      <td>1</td>\n",
       "      <td>911</td>\n",
       "      <td>54</td>\n",
       "      <td>246</td>\n",
       "      <td>8113</td>\n",
       "      <td>549</td>\n",
       "      <td>31</td>\n",
       "      <td>63</td>\n",
       "      <td>29</td>\n",
       "    </tr>\n",
       "    <tr>\n",
       "      <th>3</th>\n",
       "      <td>4.North-Apulia</td>\n",
       "      <td>1</td>\n",
       "      <td>1</td>\n",
       "      <td>966</td>\n",
       "      <td>57</td>\n",
       "      <td>240</td>\n",
       "      <td>7952</td>\n",
       "      <td>619</td>\n",
       "      <td>50</td>\n",
       "      <td>78</td>\n",
       "      <td>35</td>\n",
       "    </tr>\n",
       "    <tr>\n",
       "      <th>4</th>\n",
       "      <td>5.North-Apulia</td>\n",
       "      <td>1</td>\n",
       "      <td>1</td>\n",
       "      <td>1051</td>\n",
       "      <td>67</td>\n",
       "      <td>259</td>\n",
       "      <td>7771</td>\n",
       "      <td>672</td>\n",
       "      <td>50</td>\n",
       "      <td>80</td>\n",
       "      <td>46</td>\n",
       "    </tr>\n",
       "  </tbody>\n",
       "</table>\n",
       "</div>"
      ],
      "text/plain": [
       "       Unnamed: 0  region  area  palmitic  palmitoleic  stearic  oleic  \\\n",
       "0  1.North-Apulia       1     1      1075           75      226   7823   \n",
       "1  2.North-Apulia       1     1      1088           73      224   7709   \n",
       "2  3.North-Apulia       1     1       911           54      246   8113   \n",
       "3  4.North-Apulia       1     1       966           57      240   7952   \n",
       "4  5.North-Apulia       1     1      1051           67      259   7771   \n",
       "\n",
       "   linoleic  linolenic  arachidic  eicosenoic  \n",
       "0       672         36         60          29  \n",
       "1       781         31         61          29  \n",
       "2       549         31         63          29  \n",
       "3       619         50         78          35  \n",
       "4       672         50         80          46  "
      ]
     },
     "execution_count": 118,
     "metadata": {},
     "output_type": "execute_result"
    }
   ],
   "source": [
    "df = pd.read_csv(\"olive.csv\")\n",
    "# df = pd.read_csv(\"https://raw.githubusercontent.com/joselom23/dsp/master/python/pandas/olive.csv\")\n",
    "df.head()\n",
    "\n",
    "# The fields are:\n",
    "\n",
    "# Unnamed: 0\n",
    "# region\n",
    "# area\n",
    "# palmitic\n",
    "# palmitoleic\n",
    "# stearic\n",
    "# oleic\n",
    "# linoleic\n",
    "# linolenic\n",
    "# arachidic\n",
    "# eicosenoic"
   ]
  },
  {
   "cell_type": "markdown",
   "metadata": {},
   "source": [
    "## Q5: How many rows and columns are there in `df`? Put your answer in a variable `df_shape`."
   ]
  },
  {
   "cell_type": "code",
   "execution_count": 119,
   "metadata": {},
   "outputs": [
    {
     "name": "stdout",
     "output_type": "stream",
     "text": [
      "(572, 11)\n"
     ]
    }
   ],
   "source": [
    "df_shape=df.shape\n",
    "print(df_shape)"
   ]
  },
  {
   "cell_type": "markdown",
   "metadata": {},
   "source": [
    "## Q6: assign the first 2 rows of `df` to `df_first_two`"
   ]
  },
  {
   "cell_type": "code",
   "execution_count": 120,
   "metadata": {},
   "outputs": [
    {
     "data": {
      "text/html": [
       "<div>\n",
       "<style scoped>\n",
       "    .dataframe tbody tr th:only-of-type {\n",
       "        vertical-align: middle;\n",
       "    }\n",
       "\n",
       "    .dataframe tbody tr th {\n",
       "        vertical-align: top;\n",
       "    }\n",
       "\n",
       "    .dataframe thead th {\n",
       "        text-align: right;\n",
       "    }\n",
       "</style>\n",
       "<table border=\"1\" class=\"dataframe\">\n",
       "  <thead>\n",
       "    <tr style=\"text-align: right;\">\n",
       "      <th></th>\n",
       "      <th>Unnamed: 0</th>\n",
       "      <th>region</th>\n",
       "      <th>area</th>\n",
       "      <th>palmitic</th>\n",
       "      <th>palmitoleic</th>\n",
       "      <th>stearic</th>\n",
       "      <th>oleic</th>\n",
       "      <th>linoleic</th>\n",
       "      <th>linolenic</th>\n",
       "      <th>arachidic</th>\n",
       "      <th>eicosenoic</th>\n",
       "    </tr>\n",
       "  </thead>\n",
       "  <tbody>\n",
       "    <tr>\n",
       "      <th>0</th>\n",
       "      <td>1.North-Apulia</td>\n",
       "      <td>1</td>\n",
       "      <td>1</td>\n",
       "      <td>1075</td>\n",
       "      <td>75</td>\n",
       "      <td>226</td>\n",
       "      <td>7823</td>\n",
       "      <td>672</td>\n",
       "      <td>36</td>\n",
       "      <td>60</td>\n",
       "      <td>29</td>\n",
       "    </tr>\n",
       "    <tr>\n",
       "      <th>1</th>\n",
       "      <td>2.North-Apulia</td>\n",
       "      <td>1</td>\n",
       "      <td>1</td>\n",
       "      <td>1088</td>\n",
       "      <td>73</td>\n",
       "      <td>224</td>\n",
       "      <td>7709</td>\n",
       "      <td>781</td>\n",
       "      <td>31</td>\n",
       "      <td>61</td>\n",
       "      <td>29</td>\n",
       "    </tr>\n",
       "  </tbody>\n",
       "</table>\n",
       "</div>"
      ],
      "text/plain": [
       "       Unnamed: 0  region  area  palmitic  palmitoleic  stearic  oleic  \\\n",
       "0  1.North-Apulia       1     1      1075           75      226   7823   \n",
       "1  2.North-Apulia       1     1      1088           73      224   7709   \n",
       "\n",
       "   linoleic  linolenic  arachidic  eicosenoic  \n",
       "0       672         36         60          29  \n",
       "1       781         31         61          29  "
      ]
     },
     "execution_count": 120,
     "metadata": {},
     "output_type": "execute_result"
    }
   ],
   "source": [
    "df_first_two = df[:2]\n",
    "df_first_two.head()"
   ]
  },
  {
   "cell_type": "markdown",
   "metadata": {},
   "source": [
    "## Q7: How many distinct data types are there in `df`?"
   ]
  },
  {
   "cell_type": "code",
   "execution_count": 142,
   "metadata": {},
   "outputs": [
    {
     "name": "stdout",
     "output_type": "stream",
     "text": [
      "2\n"
     ]
    }
   ],
   "source": [
    "df_data_types_count =df.dtypes.nunique()\n",
    "print(df_data_types_count)"
   ]
  },
  {
   "cell_type": "markdown",
   "metadata": {},
   "source": [
    "## Q8: In `df`, create a new column `sub_region_raw`, which will be a copy of the column `Unnamed: 0`"
   ]
  },
  {
   "cell_type": "code",
   "execution_count": 122,
   "metadata": {
    "scrolled": true
   },
   "outputs": [
    {
     "data": {
      "text/html": [
       "<div>\n",
       "<style scoped>\n",
       "    .dataframe tbody tr th:only-of-type {\n",
       "        vertical-align: middle;\n",
       "    }\n",
       "\n",
       "    .dataframe tbody tr th {\n",
       "        vertical-align: top;\n",
       "    }\n",
       "\n",
       "    .dataframe thead th {\n",
       "        text-align: right;\n",
       "    }\n",
       "</style>\n",
       "<table border=\"1\" class=\"dataframe\">\n",
       "  <thead>\n",
       "    <tr style=\"text-align: right;\">\n",
       "      <th></th>\n",
       "      <th>Unnamed: 0</th>\n",
       "      <th>region</th>\n",
       "      <th>area</th>\n",
       "      <th>palmitic</th>\n",
       "      <th>palmitoleic</th>\n",
       "      <th>stearic</th>\n",
       "      <th>oleic</th>\n",
       "      <th>linoleic</th>\n",
       "      <th>linolenic</th>\n",
       "      <th>arachidic</th>\n",
       "      <th>eicosenoic</th>\n",
       "      <th>sub_region_raw</th>\n",
       "    </tr>\n",
       "  </thead>\n",
       "  <tbody>\n",
       "    <tr>\n",
       "      <th>0</th>\n",
       "      <td>1.North-Apulia</td>\n",
       "      <td>1</td>\n",
       "      <td>1</td>\n",
       "      <td>1075</td>\n",
       "      <td>75</td>\n",
       "      <td>226</td>\n",
       "      <td>7823</td>\n",
       "      <td>672</td>\n",
       "      <td>36</td>\n",
       "      <td>60</td>\n",
       "      <td>29</td>\n",
       "      <td>1.North-Apulia</td>\n",
       "    </tr>\n",
       "    <tr>\n",
       "      <th>1</th>\n",
       "      <td>2.North-Apulia</td>\n",
       "      <td>1</td>\n",
       "      <td>1</td>\n",
       "      <td>1088</td>\n",
       "      <td>73</td>\n",
       "      <td>224</td>\n",
       "      <td>7709</td>\n",
       "      <td>781</td>\n",
       "      <td>31</td>\n",
       "      <td>61</td>\n",
       "      <td>29</td>\n",
       "      <td>2.North-Apulia</td>\n",
       "    </tr>\n",
       "    <tr>\n",
       "      <th>2</th>\n",
       "      <td>3.North-Apulia</td>\n",
       "      <td>1</td>\n",
       "      <td>1</td>\n",
       "      <td>911</td>\n",
       "      <td>54</td>\n",
       "      <td>246</td>\n",
       "      <td>8113</td>\n",
       "      <td>549</td>\n",
       "      <td>31</td>\n",
       "      <td>63</td>\n",
       "      <td>29</td>\n",
       "      <td>3.North-Apulia</td>\n",
       "    </tr>\n",
       "    <tr>\n",
       "      <th>3</th>\n",
       "      <td>4.North-Apulia</td>\n",
       "      <td>1</td>\n",
       "      <td>1</td>\n",
       "      <td>966</td>\n",
       "      <td>57</td>\n",
       "      <td>240</td>\n",
       "      <td>7952</td>\n",
       "      <td>619</td>\n",
       "      <td>50</td>\n",
       "      <td>78</td>\n",
       "      <td>35</td>\n",
       "      <td>4.North-Apulia</td>\n",
       "    </tr>\n",
       "    <tr>\n",
       "      <th>4</th>\n",
       "      <td>5.North-Apulia</td>\n",
       "      <td>1</td>\n",
       "      <td>1</td>\n",
       "      <td>1051</td>\n",
       "      <td>67</td>\n",
       "      <td>259</td>\n",
       "      <td>7771</td>\n",
       "      <td>672</td>\n",
       "      <td>50</td>\n",
       "      <td>80</td>\n",
       "      <td>46</td>\n",
       "      <td>5.North-Apulia</td>\n",
       "    </tr>\n",
       "  </tbody>\n",
       "</table>\n",
       "</div>"
      ],
      "text/plain": [
       "       Unnamed: 0  region  area  palmitic  palmitoleic  stearic  oleic  \\\n",
       "0  1.North-Apulia       1     1      1075           75      226   7823   \n",
       "1  2.North-Apulia       1     1      1088           73      224   7709   \n",
       "2  3.North-Apulia       1     1       911           54      246   8113   \n",
       "3  4.North-Apulia       1     1       966           57      240   7952   \n",
       "4  5.North-Apulia       1     1      1051           67      259   7771   \n",
       "\n",
       "   linoleic  linolenic  arachidic  eicosenoic  sub_region_raw  \n",
       "0       672         36         60          29  1.North-Apulia  \n",
       "1       781         31         61          29  2.North-Apulia  \n",
       "2       549         31         63          29  3.North-Apulia  \n",
       "3       619         50         78          35  4.North-Apulia  \n",
       "4       672         50         80          46  5.North-Apulia  "
      ]
     },
     "execution_count": 122,
     "metadata": {},
     "output_type": "execute_result"
    }
   ],
   "source": [
    "df['sub_region_raw']=df['Unnamed: 0']\n",
    "df.head()"
   ]
  },
  {
   "cell_type": "markdown",
   "metadata": {},
   "source": [
    "## Q9: In `df`, rename `Unnamed: 0` to `sub_region_desc`"
   ]
  },
  {
   "cell_type": "code",
   "execution_count": 123,
   "metadata": {},
   "outputs": [
    {
     "data": {
      "text/html": [
       "<div>\n",
       "<style scoped>\n",
       "    .dataframe tbody tr th:only-of-type {\n",
       "        vertical-align: middle;\n",
       "    }\n",
       "\n",
       "    .dataframe tbody tr th {\n",
       "        vertical-align: top;\n",
       "    }\n",
       "\n",
       "    .dataframe thead th {\n",
       "        text-align: right;\n",
       "    }\n",
       "</style>\n",
       "<table border=\"1\" class=\"dataframe\">\n",
       "  <thead>\n",
       "    <tr style=\"text-align: right;\">\n",
       "      <th></th>\n",
       "      <th>sub_region_desc</th>\n",
       "      <th>region</th>\n",
       "      <th>area</th>\n",
       "      <th>palmitic</th>\n",
       "      <th>palmitoleic</th>\n",
       "      <th>stearic</th>\n",
       "      <th>oleic</th>\n",
       "      <th>linoleic</th>\n",
       "      <th>linolenic</th>\n",
       "      <th>arachidic</th>\n",
       "      <th>eicosenoic</th>\n",
       "      <th>sub_region_raw</th>\n",
       "    </tr>\n",
       "  </thead>\n",
       "  <tbody>\n",
       "    <tr>\n",
       "      <th>0</th>\n",
       "      <td>1.North-Apulia</td>\n",
       "      <td>1</td>\n",
       "      <td>1</td>\n",
       "      <td>1075</td>\n",
       "      <td>75</td>\n",
       "      <td>226</td>\n",
       "      <td>7823</td>\n",
       "      <td>672</td>\n",
       "      <td>36</td>\n",
       "      <td>60</td>\n",
       "      <td>29</td>\n",
       "      <td>1.North-Apulia</td>\n",
       "    </tr>\n",
       "    <tr>\n",
       "      <th>1</th>\n",
       "      <td>2.North-Apulia</td>\n",
       "      <td>1</td>\n",
       "      <td>1</td>\n",
       "      <td>1088</td>\n",
       "      <td>73</td>\n",
       "      <td>224</td>\n",
       "      <td>7709</td>\n",
       "      <td>781</td>\n",
       "      <td>31</td>\n",
       "      <td>61</td>\n",
       "      <td>29</td>\n",
       "      <td>2.North-Apulia</td>\n",
       "    </tr>\n",
       "    <tr>\n",
       "      <th>2</th>\n",
       "      <td>3.North-Apulia</td>\n",
       "      <td>1</td>\n",
       "      <td>1</td>\n",
       "      <td>911</td>\n",
       "      <td>54</td>\n",
       "      <td>246</td>\n",
       "      <td>8113</td>\n",
       "      <td>549</td>\n",
       "      <td>31</td>\n",
       "      <td>63</td>\n",
       "      <td>29</td>\n",
       "      <td>3.North-Apulia</td>\n",
       "    </tr>\n",
       "    <tr>\n",
       "      <th>3</th>\n",
       "      <td>4.North-Apulia</td>\n",
       "      <td>1</td>\n",
       "      <td>1</td>\n",
       "      <td>966</td>\n",
       "      <td>57</td>\n",
       "      <td>240</td>\n",
       "      <td>7952</td>\n",
       "      <td>619</td>\n",
       "      <td>50</td>\n",
       "      <td>78</td>\n",
       "      <td>35</td>\n",
       "      <td>4.North-Apulia</td>\n",
       "    </tr>\n",
       "    <tr>\n",
       "      <th>4</th>\n",
       "      <td>5.North-Apulia</td>\n",
       "      <td>1</td>\n",
       "      <td>1</td>\n",
       "      <td>1051</td>\n",
       "      <td>67</td>\n",
       "      <td>259</td>\n",
       "      <td>7771</td>\n",
       "      <td>672</td>\n",
       "      <td>50</td>\n",
       "      <td>80</td>\n",
       "      <td>46</td>\n",
       "      <td>5.North-Apulia</td>\n",
       "    </tr>\n",
       "  </tbody>\n",
       "</table>\n",
       "</div>"
      ],
      "text/plain": [
       "  sub_region_desc  region  area  palmitic  palmitoleic  stearic  oleic  \\\n",
       "0  1.North-Apulia       1     1      1075           75      226   7823   \n",
       "1  2.North-Apulia       1     1      1088           73      224   7709   \n",
       "2  3.North-Apulia       1     1       911           54      246   8113   \n",
       "3  4.North-Apulia       1     1       966           57      240   7952   \n",
       "4  5.North-Apulia       1     1      1051           67      259   7771   \n",
       "\n",
       "   linoleic  linolenic  arachidic  eicosenoic  sub_region_raw  \n",
       "0       672         36         60          29  1.North-Apulia  \n",
       "1       781         31         61          29  2.North-Apulia  \n",
       "2       549         31         63          29  3.North-Apulia  \n",
       "3       619         50         78          35  4.North-Apulia  \n",
       "4       672         50         80          46  5.North-Apulia  "
      ]
     },
     "execution_count": 123,
     "metadata": {},
     "output_type": "execute_result"
    }
   ],
   "source": [
    "df.rename(columns={'Unnamed: 0':'sub_region_desc'}, inplace=True)\n",
    "df.head()"
   ]
  },
  {
   "cell_type": "markdown",
   "metadata": {},
   "source": [
    "## Q10: In `df`, rename the column `area` to: `sub_region`"
   ]
  },
  {
   "cell_type": "code",
   "execution_count": 143,
   "metadata": {},
   "outputs": [
    {
     "data": {
      "text/html": [
       "<div>\n",
       "<style scoped>\n",
       "    .dataframe tbody tr th:only-of-type {\n",
       "        vertical-align: middle;\n",
       "    }\n",
       "\n",
       "    .dataframe tbody tr th {\n",
       "        vertical-align: top;\n",
       "    }\n",
       "\n",
       "    .dataframe thead th {\n",
       "        text-align: right;\n",
       "    }\n",
       "</style>\n",
       "<table border=\"1\" class=\"dataframe\">\n",
       "  <thead>\n",
       "    <tr style=\"text-align: right;\">\n",
       "      <th></th>\n",
       "      <th>sub_region_desc</th>\n",
       "      <th>region</th>\n",
       "      <th>sub_region</th>\n",
       "      <th>palmitic</th>\n",
       "      <th>palmitoleic</th>\n",
       "      <th>stearic</th>\n",
       "      <th>oleic</th>\n",
       "      <th>linoleic</th>\n",
       "      <th>linolenic</th>\n",
       "      <th>arachidic</th>\n",
       "      <th>eicosenoic</th>\n",
       "      <th>sub_region_raw</th>\n",
       "    </tr>\n",
       "  </thead>\n",
       "  <tbody>\n",
       "    <tr>\n",
       "      <th>0</th>\n",
       "      <td>1.North-Apulia</td>\n",
       "      <td>1</td>\n",
       "      <td>1</td>\n",
       "      <td>1075</td>\n",
       "      <td>75</td>\n",
       "      <td>226</td>\n",
       "      <td>7823</td>\n",
       "      <td>672</td>\n",
       "      <td>36</td>\n",
       "      <td>60</td>\n",
       "      <td>29</td>\n",
       "      <td>1.North-Apulia</td>\n",
       "    </tr>\n",
       "    <tr>\n",
       "      <th>1</th>\n",
       "      <td>2.North-Apulia</td>\n",
       "      <td>1</td>\n",
       "      <td>1</td>\n",
       "      <td>1088</td>\n",
       "      <td>73</td>\n",
       "      <td>224</td>\n",
       "      <td>7709</td>\n",
       "      <td>781</td>\n",
       "      <td>31</td>\n",
       "      <td>61</td>\n",
       "      <td>29</td>\n",
       "      <td>2.North-Apulia</td>\n",
       "    </tr>\n",
       "    <tr>\n",
       "      <th>2</th>\n",
       "      <td>3.North-Apulia</td>\n",
       "      <td>1</td>\n",
       "      <td>1</td>\n",
       "      <td>911</td>\n",
       "      <td>54</td>\n",
       "      <td>246</td>\n",
       "      <td>8113</td>\n",
       "      <td>549</td>\n",
       "      <td>31</td>\n",
       "      <td>63</td>\n",
       "      <td>29</td>\n",
       "      <td>3.North-Apulia</td>\n",
       "    </tr>\n",
       "    <tr>\n",
       "      <th>3</th>\n",
       "      <td>4.North-Apulia</td>\n",
       "      <td>1</td>\n",
       "      <td>1</td>\n",
       "      <td>966</td>\n",
       "      <td>57</td>\n",
       "      <td>240</td>\n",
       "      <td>7952</td>\n",
       "      <td>619</td>\n",
       "      <td>50</td>\n",
       "      <td>78</td>\n",
       "      <td>35</td>\n",
       "      <td>4.North-Apulia</td>\n",
       "    </tr>\n",
       "    <tr>\n",
       "      <th>4</th>\n",
       "      <td>5.North-Apulia</td>\n",
       "      <td>1</td>\n",
       "      <td>1</td>\n",
       "      <td>1051</td>\n",
       "      <td>67</td>\n",
       "      <td>259</td>\n",
       "      <td>7771</td>\n",
       "      <td>672</td>\n",
       "      <td>50</td>\n",
       "      <td>80</td>\n",
       "      <td>46</td>\n",
       "      <td>5.North-Apulia</td>\n",
       "    </tr>\n",
       "  </tbody>\n",
       "</table>\n",
       "</div>"
      ],
      "text/plain": [
       "  sub_region_desc  region  sub_region  palmitic  palmitoleic  stearic  oleic  \\\n",
       "0  1.North-Apulia       1           1      1075           75      226   7823   \n",
       "1  2.North-Apulia       1           1      1088           73      224   7709   \n",
       "2  3.North-Apulia       1           1       911           54      246   8113   \n",
       "3  4.North-Apulia       1           1       966           57      240   7952   \n",
       "4  5.North-Apulia       1           1      1051           67      259   7771   \n",
       "\n",
       "   linoleic  linolenic  arachidic  eicosenoic  sub_region_raw  \n",
       "0       672         36         60          29  1.North-Apulia  \n",
       "1       781         31         61          29  2.North-Apulia  \n",
       "2       549         31         63          29  3.North-Apulia  \n",
       "3       619         50         78          35  4.North-Apulia  \n",
       "4       672         50         80          46  5.North-Apulia  "
      ]
     },
     "execution_count": 143,
     "metadata": {},
     "output_type": "execute_result"
    }
   ],
   "source": [
    "df.rename(columns={'area':'sub_region'}, inplace=True)\n",
    "df.head()"
   ]
  },
  {
   "cell_type": "markdown",
   "metadata": {},
   "source": [
    "##  Q11: In `df`, get the unique values of the field `region`  "
   ]
  },
  {
   "cell_type": "code",
   "execution_count": 128,
   "metadata": {},
   "outputs": [
    {
     "name": "stdout",
     "output_type": "stream",
     "text": [
      "[1 2 3]\n"
     ]
    }
   ],
   "source": [
    "region_unique = df['region'].unique()\n",
    "print(region_unique)"
   ]
  },
  {
   "cell_type": "markdown",
   "metadata": {},
   "source": [
    "## Q12:  How many unique values of 'sub_region' are there?\n",
    "\n",
    "Hint:  the answer should be 9"
   ]
  },
  {
   "cell_type": "code",
   "execution_count": 135,
   "metadata": {},
   "outputs": [
    {
     "name": "stdout",
     "output_type": "stream",
     "text": [
      "9\n"
     ]
    }
   ],
   "source": [
    "sub_region_unique_count = df.sub_region.nunique()\n",
    "print(sub_region_unique_count)"
   ]
  },
  {
   "cell_type": "markdown",
   "metadata": {},
   "source": [
    "## Q13: Lets take a look at the field `sub_region_desc`:"
   ]
  },
  {
   "cell_type": "code",
   "execution_count": 139,
   "metadata": {},
   "outputs": [
    {
     "name": "stdout",
     "output_type": "stream",
     "text": [
      "0      North-Apulia\n",
      "1      North-Apulia\n",
      "2      North-Apulia\n",
      "3      North-Apulia\n",
      "4      North-Apulia\n",
      "5      North-Apulia\n",
      "6      North-Apulia\n",
      "7      North-Apulia\n",
      "8      North-Apulia\n",
      "9      North-Apulia\n",
      "10     North-Apulia\n",
      "11     North-Apulia\n",
      "12     North-Apulia\n",
      "13     North-Apulia\n",
      "14     North-Apulia\n",
      "           ...     \n",
      "557    West-Liguria\n",
      "558    West-Liguria\n",
      "559    West-Liguria\n",
      "560    West-Liguria\n",
      "561    West-Liguria\n",
      "562    West-Liguria\n",
      "563    West-Liguria\n",
      "564    West-Liguria\n",
      "565    West-Liguria\n",
      "566    West-Liguria\n",
      "567    West-Liguria\n",
      "568    West-Liguria\n",
      "569    West-Liguria\n",
      "570    West-Liguria\n",
      "571    West-Liguria\n",
      "Name: sub_region_desc, Length: 572, dtype: object\n"
     ]
    }
   ],
   "source": [
    "# >>> df['sub_region_desc'].head(5)\n",
    "# 0    1.North-Apulia\n",
    "# 1    2.North-Apulia\n",
    "# 2    3.North-Apulia\n",
    "# 3    4.North-Apulia\n",
    "# 4    5.North-Apulia\n",
    "\n",
    "# Looks like 'sub_region_desc' has line numbers attached to the beginning of region name. Remove those and get the unique values in that field, assign it to `srd_unique`\n",
    "srd_unique = df['sub_region_desc'].replace(regex=True,to_replace=r'[0-9]+.',value=r'')\n",
    "print(srd_unique)"
   ]
  }
 ],
 "metadata": {
  "anaconda-cloud": {},
  "kernelspec": {
   "display_name": "Python 3",
   "language": "python",
   "name": "python3"
  },
  "language_info": {
   "codemirror_mode": {
    "name": "ipython",
    "version": 3
   },
   "file_extension": ".py",
   "mimetype": "text/x-python",
   "name": "python",
   "nbconvert_exporter": "python",
   "pygments_lexer": "ipython3",
   "version": "3.6.5"
  }
 },
 "nbformat": 4,
 "nbformat_minor": 1
}
